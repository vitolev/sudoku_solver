{
 "cells": [
  {
   "cell_type": "markdown",
   "metadata": {
    "id": "GvSWHVzqdetf"
   },
   "source": [
    "# Izračun točk"
   ]
  },
  {
   "cell_type": "code",
   "execution_count": null,
   "metadata": {
    "id": "kFBpj_WdZLHW"
   },
   "outputs": [],
   "source": [
    "import pandas as pd\n",
    "import re"
   ]
  },
  {
   "cell_type": "code",
   "execution_count": null,
   "metadata": {
    "colab": {
     "base_uri": "https://localhost:8080/",
     "height": 375
    },
    "id": "XAV5ZsWGihP6",
    "outputId": "dc100fa7-1ecc-4dd8-b449-f4f20018c77a"
   },
   "outputs": [],
   "source": [
    "benchmarks = pd.read_csv(\"benchmarks.csv\", names=[\"name\", \"sudoku\", \"result\", \"time\"])"
   ]
  },
  {
   "cell_type": "code",
   "execution_count": null,
   "metadata": {},
   "outputs": [],
   "source": [
    "def kind(sudoku):\n",
    "    match = re.search(\"(?P<kind>\\w+)-\\d+\\.sdk\", sudoku)\n",
    "    if match:\n",
    "        return match.group(\"kind\")\n",
    "\n",
    "\n",
    "benchmarks[\"kind\"] = benchmarks.sudoku.apply(kind)"
   ]
  },
  {
   "cell_type": "code",
   "execution_count": null,
   "metadata": {},
   "outputs": [],
   "source": [
    "time_range = (\n",
    "    benchmarks[benchmarks.result == \"CORRECT\"]\n",
    "    .groupby(\"sudoku\")\n",
    "    .aggregate({\"time\": [(\"fastest\", \"min\"), (\"slowest\", \"max\")]})\n",
    ")\n",
    "time_range.columns = time_range.columns.get_level_values(1)\n",
    "benchmarks = pd.merge(benchmarks, time_range, on=\"sudoku\", how=\"left\")"
   ]
  },
  {
   "cell_type": "code",
   "execution_count": null,
   "metadata": {},
   "outputs": [],
   "source": [
    "incorrect = benchmarks.result != \"CORRECT\"\n",
    "benchmarks.loc[incorrect, \"time\"] = benchmarks[incorrect].slowest * 2\n",
    "\n",
    "benchmarks[\"relative_time\"] = benchmarks.time / benchmarks.fastest"
   ]
  },
  {
   "cell_type": "code",
   "execution_count": null,
   "metadata": {},
   "outputs": [],
   "source": [
    "benchmarks"
   ]
  },
  {
   "cell_type": "markdown",
   "metadata": {
    "id": "wEWAIT2MaLYE"
   },
   "source": [
    "## Točke za pravilnost\n",
    "\n",
    "- 5 točk - 100% pravilno rešenih običajnih sudokujev\n",
    "- 4 točke - ≥50% pravilno rešenih običajnih sudokujev\n",
    "- 3 točke - >0% pravilno rešenih običajnih sudokujev\n",
    "- 0-2 točki - odvisno od pravilnosti pomožnih funkcij - se določi ročno"
   ]
  },
  {
   "cell_type": "code",
   "execution_count": null,
   "metadata": {},
   "outputs": [],
   "source": [
    "number_of_correct = (\n",
    "    benchmarks[(benchmarks.kind == \"obicajni\") & (benchmarks.result == \"CORRECT\")]\n",
    "    .groupby(\"name\")\n",
    "    .size()\n",
    ")"
   ]
  },
  {
   "cell_type": "code",
   "execution_count": null,
   "metadata": {},
   "outputs": [],
   "source": [
    "number_of_correct.sort_values(ascending=False).plot.bar()"
   ]
  },
  {
   "cell_type": "code",
   "execution_count": null,
   "metadata": {
    "id": "0Bp9NYhfahh1"
   },
   "outputs": [],
   "source": [
    "total = len(set(benchmarks[benchmarks.kind == \"obicajni\"].sudoku))\n",
    "\n",
    "\n",
    "def tocke_za_pravilnost(correct):\n",
    "    if correct == total:\n",
    "        return 5\n",
    "    elif correct / total >= 0.5:\n",
    "        return 4\n",
    "    else:\n",
    "        # če se vrednost pojavi, je moral biti vsaj en pravilen\n",
    "        return 3"
   ]
  },
  {
   "cell_type": "code",
   "execution_count": null,
   "metadata": {
    "colab": {
     "base_uri": "https://localhost:8080/"
    },
    "id": "aINHi2DFZpkk",
    "outputId": "4571fc7d-5292-4822-84be-4d9b9d1460b8"
   },
   "outputs": [],
   "source": [
    "number_of_correct.apply(tocke_za_pravilnost)"
   ]
  },
  {
   "cell_type": "markdown",
   "metadata": {
    "id": "OgXEZI0vdO5a"
   },
   "source": [
    "## Točke za hitrost"
   ]
  },
  {
   "cell_type": "code",
   "execution_count": null,
   "metadata": {},
   "outputs": [],
   "source": [
    "speed_benchmarks = benchmarks[\n",
    "    (benchmarks.kind == \"obicajni\") & ~pd.isna(benchmarks.time)\n",
    "]"
   ]
  },
  {
   "cell_type": "code",
   "execution_count": null,
   "metadata": {
    "colab": {
     "base_uri": "https://localhost:8080/",
     "height": 372
    },
    "id": "r3Xh8MzFdtyr",
    "outputId": "cf2595d5-17c7-4746-de45-4c2eb3c33d8b"
   },
   "outputs": [],
   "source": [
    "speed_benchmarks.boxplot(\"relative_time\", by=\"name\", vert=False)"
   ]
  },
  {
   "cell_type": "code",
   "execution_count": null,
   "metadata": {
    "colab": {
     "base_uri": "https://localhost:8080/",
     "height": 759
    },
    "id": "mrdF7XWsor-X",
    "outputId": "3f5dafbf-ae1f-41f5-8521-737657f1d935"
   },
   "outputs": [],
   "source": [
    "speed = speed_benchmarks.groupby(\"name\").mean().relative_time\n",
    "speed.sort_values().plot.bar(log=True)\n",
    "speed"
   ]
  },
  {
   "cell_type": "markdown",
   "metadata": {
    "id": "IP-LjO-VbZ5V"
   },
   "source": [
    "## Točke za razširitve\n",
    "\n"
   ]
  },
  {
   "cell_type": "code",
   "execution_count": null,
   "metadata": {},
   "outputs": [],
   "source": [
    "extension_benchmarks = benchmarks[\n",
    "    (benchmarks.result != \"ERROR\") & (benchmarks.kind != \"obicajni\")\n",
    "]"
   ]
  },
  {
   "cell_type": "code",
   "execution_count": null,
   "metadata": {
    "colab": {
     "base_uri": "https://localhost:8080/",
     "height": 359
    },
    "id": "Lj-fTyqWaB7V",
    "outputId": "532562a3-5560-4bde-b66c-05938fd77935"
   },
   "outputs": [],
   "source": [
    "extension_benchmarks.groupby([\"name\", \"kind\", \"result\"]).size().unstack()"
   ]
  },
  {
   "cell_type": "code",
   "execution_count": null,
   "metadata": {
    "colab": {
     "base_uri": "https://localhost:8080/"
    },
    "id": "o5_MaIShzE70",
    "outputId": "2c4baf26-e263-40fb-d651-e56826cfbbc1"
   },
   "outputs": [],
   "source": [
    "extension_benchmarks.groupby([\"name\", \"kind\"]).mean().relative_time"
   ]
  }
 ],
 "metadata": {
  "colab": {
   "collapsed_sections": [],
   "name": "Untitled21.ipynb",
   "provenance": []
  },
  "kernelspec": {
   "display_name": "Python 3",
   "name": "python3"
  },
  "language_info": {
   "codemirror_mode": {
    "name": "ipython",
    "version": 3
   },
   "file_extension": ".py",
   "mimetype": "text/x-python",
   "name": "python",
   "nbconvert_exporter": "python",
   "pygments_lexer": "ipython3",
   "version": "3.9.1"
  }
 },
 "nbformat": 4,
 "nbformat_minor": 0
}
